{
 "cells": [
  {
   "cell_type": "code",
   "execution_count": 28,
   "metadata": {},
   "outputs": [],
   "source": [
    "import pandas as pd\n",
    "from nltk import word_tokenize, wordpunct_tokenize\n",
    "from nltk.tokenize import NLTKWordTokenizer\n",
    "import numpy as np\n",
    "import json"
   ]
  },
  {
   "cell_type": "code",
   "execution_count": 29,
   "metadata": {},
   "outputs": [],
   "source": [
    "def transform(s):\n",
    "    s = s.lower()\n",
    "    return [s[start:end] for start, end in NLTKWordTokenizer().span_tokenize(s)]"
   ]
  },
  {
   "cell_type": "code",
   "execution_count": 31,
   "metadata": {},
   "outputs": [
    {
     "ename": "",
     "evalue": "",
     "output_type": "error",
     "traceback": [
      "\u001b[1;31mThe Kernel crashed while executing code in the the current cell or a previous cell. Please review the code in the cell(s) to identify a possible cause of the failure. Click <a href='https://aka.ms/vscodeJupyterKernelCrash'>here</a> for more info. View Jupyter <a href='command:jupyter.viewOutput'>log</a> for further details."
     ]
    }
   ],
   "source": [
    "testfile =  open(\"new_test.json\", \"r\")\n",
    "trainfile = open(\"new_train.json\", \"r\")\n",
    "loaded_test = json.load(testfile)\n",
    "loaded_train = json.load(trainfile)\n",
    "traindf = pd.DataFrame(loaded_train, columns=['id', 'text', 'author'])\n",
    "traindf['text'] = traindf.text.apply(lambda text: transform(text))\n",
    "testdf = pd.DataFrame(loaded_test, columns=['id', 'text', 'author'])\n",
    "testdf['text'] = testdf.text.apply(lambda text: transform(text))\n",
    "traindf\n",
    "testdf.to_json('tokenized_test.json', orient='records')\n",
    "traindf.to_json('tokenized_train.json', orient='records')\n"
   ]
  },
  {
   "cell_type": "code",
   "execution_count": null,
   "metadata": {},
   "outputs": [],
   "source": []
  }
 ],
 "metadata": {
  "kernelspec": {
   "display_name": "Python 3",
   "language": "python",
   "name": "python3"
  },
  "language_info": {
   "codemirror_mode": {
    "name": "ipython",
    "version": 3
   },
   "file_extension": ".py",
   "mimetype": "text/x-python",
   "name": "python",
   "nbconvert_exporter": "python",
   "pygments_lexer": "ipython3",
   "version": "3.11.2"
  },
  "orig_nbformat": 4,
  "vscode": {
   "interpreter": {
    "hash": "8a5edab282632443219e051e4ade2d1d5bbc671c781051bf1437897cbdfea0f1"
   }
  }
 },
 "nbformat": 4,
 "nbformat_minor": 2
}
