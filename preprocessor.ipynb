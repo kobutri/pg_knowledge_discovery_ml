{
 "cells": [
  {
   "cell_type": "code",
   "execution_count": 2,
   "metadata": {},
   "outputs": [],
   "source": [
    "import pandas as pd\n",
    "from nltk import word_tokenize, wordpunct_tokenize\n",
    "from nltk.tokenize import NLTKWordTokenizer\n",
    "import numpy as np\n",
    "import json"
   ]
  },
  {
   "cell_type": "code",
   "execution_count": 3,
   "metadata": {},
   "outputs": [],
   "source": [
    "def transform(s):\n",
    "    s = s.lower()\n",
    "    return [s[start:end] for start, end in NLTKWordTokenizer().span_tokenize(s)]"
   ]
  },
  {
   "cell_type": "code",
   "execution_count": 4,
   "metadata": {},
   "outputs": [],
   "source": [
    "testfile =  open(\"new_test.json\", \"r\")\n",
    "trainfile = open(\"new_train.json\", \"r\")\n",
    "loaded_test = json.load(testfile)\n",
    "loaded_train = json.load(trainfile)\n",
    "traindf = pd.DataFrame(loaded_train, columns=['id', 'text', 'author'])\n",
    "traindf['text'] = traindf.text.apply(lambda text: transform(text))\n",
    "testdf = pd.DataFrame(loaded_test, columns=['id', 'text', 'author'])\n",
    "testdf['text'] = testdf.text.apply(lambda text: transform(text))\n",
    "traindf\n",
    "testdf.to_json('tokenized_test.json', orient='records')\n",
    "traindf.to_json('tokenized_train.json', orient='records')\n"
   ]
  },
  {
   "cell_type": "code",
   "execution_count": 6,
   "metadata": {},
   "outputs": [
    {
     "data": {
      "text/plain": [
       "475449"
      ]
     },
     "execution_count": 6,
     "metadata": {},
     "output_type": "execute_result"
    }
   ],
   "source": [
    "len(traindf.explode('text')[['id', 'author', 'text']])"
   ]
  },
  {
   "cell_type": "code",
   "execution_count": null,
   "metadata": {},
   "outputs": [],
   "source": []
  }
 ],
 "metadata": {
  "kernelspec": {
   "display_name": "Python 3 (ipykernel)",
   "language": "python",
   "name": "python3"
  },
  "language_info": {
   "codemirror_mode": {
    "name": "ipython",
    "version": 3
   },
   "file_extension": ".py",
   "mimetype": "text/x-python",
   "name": "python",
   "nbconvert_exporter": "python",
   "pygments_lexer": "ipython3",
   "version": "3.11.1"
  },
  "vscode": {
   "interpreter": {
    "hash": "8a5edab282632443219e051e4ade2d1d5bbc671c781051bf1437897cbdfea0f1"
   }
  }
 },
 "nbformat": 4,
 "nbformat_minor": 2
}
