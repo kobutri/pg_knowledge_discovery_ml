{
 "cells": [
  {
   "cell_type": "code",
   "execution_count": 2,
   "metadata": {},
   "outputs": [],
   "source": [
    "import pandas as pd"
   ]
  },
  {
   "cell_type": "code",
   "execution_count": null,
   "metadata": {},
   "outputs": [],
   "source": []
  },
  {
   "cell_type": "code",
   "execution_count": 4,
   "metadata": {},
   "outputs": [],
   "source": [
    "df = pd.read_json(\"results_output/resultst_template.json\")\n",
    "for path in [\"bayes\", \"lda\"]:\n",
    "    df.to_json(f'results_output/results_{\"bayes\" if \"bayes\" in path else \"lda\"}_W.json', orient='values')\n",
    "    df.to_json(f'results_output/results_{\"bayes\" if \"bayes\" in path else \"lda\"}_WL.json', orient='values')\n",
    "    df.to_json(f'results_output/results_{\"bayes\" if \"bayes\" in path else \"lda\"}_WSP.json', orient='values')\n",
    "    df.to_json(f'results_output/results_{\"bayes\" if \"bayes\" in path else \"lda\"}_CSP.json', orient='values')\n",
    "    df.to_json(f'results_output/results_{\"bayes\" if \"bayes\" in path else \"lda\"}_C.json', orient='values')\n",
    "    df.to_json(f'results_output/results_{\"bayes\" if \"bayes\" in path else \"lda\"}_WSPH5e-4.json', orient='values')\n",
    "    df.to_json(f'results_output/results_{\"bayes\" if \"bayes\" in path else \"lda\"}_CSPH5e-4.json', orient='values')\n",
    "    df.to_json(f'results_output/results_{\"bayes\" if \"bayes\" in path else \"lda\"}_WSPHHPLe-4.json', orient='values')\n",
    "    df.to_json(f'results_output/results_{\"bayes\" if \"bayes\" in path else \"lda\"}_CSPHHPLe-4.json', orient='values')\n",
    "    df.to_json(f'results_output/results_{\"bayes\" if \"bayes\" in path else \"lda\"}_WSPH5e-5.json', orient='values')\n",
    "    df.to_json(f'results_output/results_{\"bayes\" if \"bayes\" in path else \"lda\"}_CSPH5e-5.json', orient='values')\n",
    "    df.to_json(f'results_output/results_{\"bayes\" if \"bayes\" in path else \"lda\"}_WSPHHPLe-5.json', orient='values')\n",
    "    df.to_json(f'results_output/results_{\"bayes\" if \"bayes\" in path else \"lda\"}_CSPHHPLe-5.json', orient='values')\n",
    "    df.to_json(f'results_output/results_{\"bayes\" if \"bayes\" in path else \"lda\"}_WSPHHPLe-6.json', orient='values')\n",
    "    df.to_json(f'results_output/results_{\"bayes\" if \"bayes\" in path else \"lda\"}_CSPHHPLe-6.json', orient='values')"
   ]
  },
  {
   "cell_type": "code",
   "execution_count": 14,
   "metadata": {},
   "outputs": [
    {
     "name": "stdout",
     "output_type": "stream",
     "text": [
      "0.3333333333333333\n",
      "0.2222222222222222\n",
      "0.3333333333333333\n",
      "0.26666666666666666\n"
     ]
    }
   ],
   "source": [
    "from sklearn.metrics import accuracy_score, precision_score, f1_score, recall_score\n",
    "\n",
    "gt = [\"a\", \"b\", \"a\", \"b\"]\n",
    "pr = [\"a\", \"a\", \"a\", \"a\"]\n",
    "\n",
    "\n",
    "y_true = pd.Series([\"EAP\", \"HPL\", \"MWS\", \"EAP\", \"HPL\", \"MWS\"])\n",
    "y_pred = pd.Series([\"EAP\", \"MWS\", \"HPL\", \"EAP\", \"EAP\", \"HPL\"])\n",
    "print(accuracy_score(y_true, y_pred))\n",
    "print(precision_score(y_true, y_pred, average='macro'))\n",
    "print(recall_score(y_true, y_pred, average='macro'))\n",
    "print(f1_score(y_true, y_pred, average='macro'))\n"
   ]
  }
 ],
 "metadata": {
  "kernelspec": {
   "display_name": "Python 3",
   "language": "python",
   "name": "python3"
  },
  "language_info": {
   "codemirror_mode": {
    "name": "ipython",
    "version": 3
   },
   "file_extension": ".py",
   "mimetype": "text/x-python",
   "name": "python",
   "nbconvert_exporter": "python",
   "pygments_lexer": "ipython3",
   "version": "3.10.6"
  },
  "orig_nbformat": 4
 },
 "nbformat": 4,
 "nbformat_minor": 2
}
