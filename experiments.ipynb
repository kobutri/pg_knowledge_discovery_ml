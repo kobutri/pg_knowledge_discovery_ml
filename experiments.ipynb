{
 "cells": [
  {
   "cell_type": "code",
   "execution_count": 7,
   "metadata": {},
   "outputs": [],
   "source": [
    "import pandas as pd\n",
    "from nltk.tokenize import NLTKWordTokenizer\n",
    "import json"
   ]
  },
  {
   "cell_type": "code",
   "execution_count": 8,
   "metadata": {},
   "outputs": [],
   "source": [
    "file =  open(\"new_test.json\", \"r\")\n",
    "data = json.load(file)\n",
    "df = pd.DataFrame(data, columns=['id', 'token', 'author'])\n",
    "df.token = df.token.apply(lambda s: s.lower())\n",
    "df['token'] = df.token.apply(lambda s: [s[start:end] for start, end in NLTKWordTokenizer().span_tokenize(s)])"
   ]
  },
  {
   "cell_type": "code",
   "execution_count": 9,
   "metadata": {},
   "outputs": [
    {
     "data": {
      "text/plain": [
       "['upon',\n",
       " 'my',\n",
       " 'recovery',\n",
       " ',',\n",
       " 'too',\n",
       " ',',\n",
       " 'i',\n",
       " 'felt',\n",
       " 'very',\n",
       " 'oh',\n",
       " ',',\n",
       " 'inexpressibly',\n",
       " 'sick',\n",
       " 'and',\n",
       " 'weak',\n",
       " ',',\n",
       " 'as',\n",
       " 'if',\n",
       " 'through',\n",
       " 'long',\n",
       " 'inanition',\n",
       " '.']"
      ]
     },
     "execution_count": 9,
     "metadata": {},
     "output_type": "execute_result"
    }
   ],
   "source": [
    "df.token.iloc[1]"
   ]
  },
  {
   "cell_type": "code",
   "execution_count": 10,
   "metadata": {},
   "outputs": [],
   "source": [
    "from nltk.stem import WordNetLemmatizer\n",
    "import nltk\n",
    "from nltk.corpus import wordnet\n",
    "\n",
    "\n",
    "def pos_tagger(tag):\n",
    "    if tag.startswith(\"J\"):\n",
    "        return wordnet.ADJ\n",
    "    elif tag.startswith(\"V\"):\n",
    "        return wordnet.VERB\n",
    "    elif tag.startswith(\"N\"):\n",
    "        return wordnet.NOUN\n",
    "    elif tag.startswith(\"R\"):\n",
    "        return wordnet.ADV\n",
    "    else:\n",
    "        return None\n",
    "\n",
    "\n",
    "lemm = WordNetLemmatizer()\n",
    "df.token = df.token.apply(lambda doc: nltk.pos_tag(doc)) \\\n",
    "    .apply(lambda doc: list(map(lambda x: (x[0], pos_tagger(x[1])), doc))) \\\n",
    "    .apply(lambda doc: list(map(lambda x: x[0] if x[1] == None else lemm.lemmatize(x[0], x[1]), doc)))\n",
    "\n"
   ]
  },
  {
   "cell_type": "code",
   "execution_count": 11,
   "metadata": {},
   "outputs": [
    {
     "data": {
      "text/plain": [
       "False"
      ]
     },
     "execution_count": 11,
     "metadata": {},
     "output_type": "execute_result"
    }
   ],
   "source": [
    "import string\n",
    "\"don't\" in string.punctuation"
   ]
  },
  {
   "cell_type": "code",
   "execution_count": 16,
   "metadata": {},
   "outputs": [
    {
     "data": {
      "text/plain": [
       "571"
      ]
     },
     "execution_count": 16,
     "metadata": {},
     "output_type": "execute_result"
    }
   ],
   "source": [
    "from nltk import FreqDist\n",
    "dist = FreqDist(df.token.explode())\n",
    "dist[\"this\"]/"
   ]
  },
  {
   "cell_type": "code",
   "execution_count": null,
   "metadata": {},
   "outputs": [],
   "source": []
  }
 ],
 "metadata": {
  "kernelspec": {
   "display_name": "Python 3",
   "language": "python",
   "name": "python3"
  },
  "language_info": {
   "codemirror_mode": {
    "name": "ipython",
    "version": 3
   },
   "file_extension": ".py",
   "mimetype": "text/x-python",
   "name": "python",
   "nbconvert_exporter": "python",
   "pygments_lexer": "ipython3",
   "version": "3.10.6"
  },
  "orig_nbformat": 4
 },
 "nbformat": 4,
 "nbformat_minor": 2
}
