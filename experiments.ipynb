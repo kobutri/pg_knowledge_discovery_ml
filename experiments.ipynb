{
 "cells": [
  {
   "cell_type": "code",
   "execution_count": 4,
   "metadata": {},
   "outputs": [],
   "source": [
    "import pandas as pd\n",
    "df = pd.read_json(\"results_output/resultst_template.json\")\n",
    "for path in [\"bayes\", \"lda\"]:\n",
    "    df.to_json(f'results_output/results_{\"bayes\" if \"bayes\" in path else \"lda\"}_W.json', orient='values')\n",
    "    df.to_json(f'results_output/results_{\"bayes\" if \"bayes\" in path else \"lda\"}_WL.json', orient='values')\n",
    "    df.to_json(f'results_output/results_{\"bayes\" if \"bayes\" in path else \"lda\"}_WSP.json', orient='values')\n",
    "    df.to_json(f'results_output/results_{\"bayes\" if \"bayes\" in path else \"lda\"}_CSP.json', orient='values')\n",
    "    df.to_json(f'results_output/results_{\"bayes\" if \"bayes\" in path else \"lda\"}_C.json', orient='values')\n",
    "    df.to_json(f'results_output/results_{\"bayes\" if \"bayes\" in path else \"lda\"}_WSPH5e-4.json', orient='values')\n",
    "    df.to_json(f'results_output/results_{\"bayes\" if \"bayes\" in path else \"lda\"}_CSPH5e-4.json', orient='values')\n",
    "    df.to_json(f'results_output/results_{\"bayes\" if \"bayes\" in path else \"lda\"}_WSPH1e-4.json', orient='values')\n",
    "    df.to_json(f'results_output/results_{\"bayes\" if \"bayes\" in path else \"lda\"}_CSPH1e-4.json', orient='values')\n",
    "    df.to_json(f'results_output/results_{\"bayes\" if \"bayes\" in path else \"lda\"}_WSPH5e-5.json', orient='values')\n",
    "    df.to_json(f'results_output/results_{\"bayes\" if \"bayes\" in path else \"lda\"}_CSPH5e-5.json', orient='values')\n",
    "    df.to_json(f'results_output/results_{\"bayes\" if \"bayes\" in path else \"lda\"}_WSPH1e-5.json', orient='values')\n",
    "    df.to_json(f'results_output/results_{\"bayes\" if \"bayes\" in path else \"lda\"}_CSPH1e-5.json', orient='values')\n",
    "    df.to_json(f'results_output/results_{\"bayes\" if \"bayes\" in path else \"lda\"}_WSPH1e-6.json', orient='values')\n",
    "    df.to_json(f'results_output/results_{\"bayes\" if \"bayes\" in path else \"lda\"}_CSPH1e-6.json', orient='values')"
   ]
  },
  {
   "cell_type": "code",
   "execution_count": null,
   "metadata": {},
   "outputs": [],
   "source": []
  }
 ],
 "metadata": {
  "kernelspec": {
   "display_name": "Python 3",
   "language": "python",
   "name": "python3"
  },
  "language_info": {
   "codemirror_mode": {
    "name": "ipython",
    "version": 3
   },
   "file_extension": ".py",
   "mimetype": "text/x-python",
   "name": "python",
   "nbconvert_exporter": "python",
   "pygments_lexer": "ipython3",
   "version": "3.10.6"
  },
  "orig_nbformat": 4
 },
 "nbformat": 4,
 "nbformat_minor": 2
}
